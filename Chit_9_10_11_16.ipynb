{
 "cells": [
  {
   "cell_type": "code",
   "execution_count": 1,
   "id": "7722b069",
   "metadata": {},
   "outputs": [],
   "source": [
    "import tensorflow as tf\n",
    "import numpy as np\n",
    "import matplotlib.pyplot as plt\n",
    "from tensorflow.keras.preprocessing.image import ImageDataGenerator\n",
    "from tensorflow.keras.layers import Dense, Dropout, Flatten\n",
    "from tensorflow.keras.models import Model\n",
    "from tensorflow.keras.applications import VGG16"
   ]
  },
  {
   "cell_type": "code",
   "execution_count": 2,
   "id": "5e68f14e",
   "metadata": {},
   "outputs": [
    {
     "name": "stdout",
     "output_type": "stream",
     "text": [
      "Found 9144 images belonging to 102 classes.\n"
     ]
    }
   ],
   "source": [
    "dataset_dir = \"D:\\Deep_Learning_code\\LP-IV-datasets\\Object Detection(Ass6)\\caltech-101-img\"\n",
    "dataset_datagen = ImageDataGenerator(rescale=1.0/255)\n",
    "\n",
    "dataset_generator = dataset_datagen.flow_from_directory(\n",
    "    dataset_dir,\n",
    "    target_size=(64,64),\n",
    "    batch_size=2000,\n",
    "    class_mode='categorical'\n",
    "    \n",
    ")"
   ]
  },
  {
   "cell_type": "code",
   "execution_count": 3,
   "id": "18fe1823",
   "metadata": {},
   "outputs": [],
   "source": [
    "x_train, y_train = dataset_generator[0]\n",
    "x_test, y_test = dataset_generator[1]"
   ]
  },
  {
   "cell_type": "code",
   "execution_count": 5,
   "id": "36809620",
   "metadata": {},
   "outputs": [],
   "source": [
    "weights_path = r\"D:\\Deep_Learning_code\\LP-IV-datasets\\Object Detection(Ass6)\\vgg16_weights_tf_dim_ordering_tf_kernels_notop.h5\"\n",
    "base_model = VGG16(weights= weights_path, include_top=False, input_shape=(64,64,3))"
   ]
  },
  {
   "cell_type": "code",
   "execution_count": 6,
   "id": "5b45a911",
   "metadata": {},
   "outputs": [],
   "source": [
    "for layer in base_model.layers:\n",
    "    layer.trainable = False"
   ]
  },
  {
   "cell_type": "code",
   "execution_count": 9,
   "id": "75ef4621",
   "metadata": {},
   "outputs": [
    {
     "name": "stdout",
     "output_type": "stream",
     "text": [
      "Model: \"model_1\"\n",
      "_________________________________________________________________\n",
      " Layer (type)                Output Shape              Param #   \n",
      "=================================================================\n",
      " input_2 (InputLayer)        [(None, 64, 64, 3)]       0         \n",
      "                                                                 \n",
      " block1_conv1 (Conv2D)       (None, 64, 64, 64)        1792      \n",
      "                                                                 \n",
      " block1_conv2 (Conv2D)       (None, 64, 64, 64)        36928     \n",
      "                                                                 \n",
      " block1_pool (MaxPooling2D)  (None, 32, 32, 64)        0         \n",
      "                                                                 \n",
      " block2_conv1 (Conv2D)       (None, 32, 32, 128)       73856     \n",
      "                                                                 \n",
      " block2_conv2 (Conv2D)       (None, 32, 32, 128)       147584    \n",
      "                                                                 \n",
      " block2_pool (MaxPooling2D)  (None, 16, 16, 128)       0         \n",
      "                                                                 \n",
      " block3_conv1 (Conv2D)       (None, 16, 16, 256)       295168    \n",
      "                                                                 \n",
      " block3_conv2 (Conv2D)       (None, 16, 16, 256)       590080    \n",
      "                                                                 \n",
      " block3_conv3 (Conv2D)       (None, 16, 16, 256)       590080    \n",
      "                                                                 \n",
      " block3_pool (MaxPooling2D)  (None, 8, 8, 256)         0         \n",
      "                                                                 \n",
      " block4_conv1 (Conv2D)       (None, 8, 8, 512)         1180160   \n",
      "                                                                 \n",
      " block4_conv2 (Conv2D)       (None, 8, 8, 512)         2359808   \n",
      "                                                                 \n",
      " block4_conv3 (Conv2D)       (None, 8, 8, 512)         2359808   \n",
      "                                                                 \n",
      " block4_pool (MaxPooling2D)  (None, 4, 4, 512)         0         \n",
      "                                                                 \n",
      " block5_conv1 (Conv2D)       (None, 4, 4, 512)         2359808   \n",
      "                                                                 \n",
      " block5_conv2 (Conv2D)       (None, 4, 4, 512)         2359808   \n",
      "                                                                 \n",
      " block5_conv3 (Conv2D)       (None, 4, 4, 512)         2359808   \n",
      "                                                                 \n",
      " block5_pool (MaxPooling2D)  (None, 2, 2, 512)         0         \n",
      "                                                                 \n",
      " flatten_1 (Flatten)         (None, 2048)              0         \n",
      "                                                                 \n",
      " dense_2 (Dense)             (None, 64)                131136    \n",
      "                                                                 \n",
      " dense_3 (Dense)             (None, 102)               6630      \n",
      "                                                                 \n",
      "=================================================================\n",
      "Total params: 14,852,454\n",
      "Trainable params: 137,766\n",
      "Non-trainable params: 14,714,688\n",
      "_________________________________________________________________\n"
     ]
    }
   ],
   "source": [
    "x = Flatten()(base_model.output)\n",
    "x = Dense(64, activation = 'relu')(x)\n",
    "predictions  = Dense(102, activation = 'softmax')(x)\n",
    "\n",
    "model = Model(inputs = base_model.input, outputs = predictions)\n",
    "model.compile(optimizer='adam', loss = 'categorical_crossentropy', metrics = ['accuracy'])\n",
    "model.summary()"
   ]
  },
  {
   "cell_type": "code",
   "execution_count": 10,
   "id": "1e01b21a",
   "metadata": {},
   "outputs": [
    {
     "name": "stdout",
     "output_type": "stream",
     "text": [
      "Epoch 1/10\n",
      "32/32 [==============================] - 92s 3s/step - loss: 3.9545 - accuracy: 0.1935 - val_loss: 3.4310 - val_accuracy: 0.3070\n",
      "Epoch 2/10\n",
      "32/32 [==============================] - 87s 3s/step - loss: 2.9833 - accuracy: 0.3770 - val_loss: 2.9316 - val_accuracy: 0.4065\n",
      "Epoch 3/10\n",
      "32/32 [==============================] - 54s 2s/step - loss: 2.4504 - accuracy: 0.4875 - val_loss: 2.5946 - val_accuracy: 0.4540\n",
      "Epoch 4/10\n",
      "32/32 [==============================] - 51s 2s/step - loss: 2.0306 - accuracy: 0.5540 - val_loss: 2.3800 - val_accuracy: 0.4835\n",
      "Epoch 5/10\n",
      "32/32 [==============================] - 49s 2s/step - loss: 1.7220 - accuracy: 0.6205 - val_loss: 2.2410 - val_accuracy: 0.4955\n",
      "Epoch 6/10\n",
      "32/32 [==============================] - 52s 2s/step - loss: 1.4916 - accuracy: 0.6680 - val_loss: 2.1119 - val_accuracy: 0.5200\n",
      "Epoch 7/10\n",
      "32/32 [==============================] - 51s 2s/step - loss: 1.2938 - accuracy: 0.7200 - val_loss: 2.0570 - val_accuracy: 0.5225\n",
      "Epoch 8/10\n",
      "32/32 [==============================] - 51s 2s/step - loss: 1.1506 - accuracy: 0.7480 - val_loss: 1.9773 - val_accuracy: 0.5470\n",
      "Epoch 9/10\n",
      "32/32 [==============================] - 53s 2s/step - loss: 1.0197 - accuracy: 0.7795 - val_loss: 1.9290 - val_accuracy: 0.5605\n",
      "Epoch 10/10\n",
      "32/32 [==============================] - 53s 2s/step - loss: 0.9064 - accuracy: 0.8175 - val_loss: 1.8945 - val_accuracy: 0.5585\n"
     ]
    },
    {
     "data": {
      "text/plain": [
       "<keras.callbacks.History at 0x16711925af0>"
      ]
     },
     "execution_count": 10,
     "metadata": {},
     "output_type": "execute_result"
    }
   ],
   "source": [
    "model.fit(x_train, y_train, batch_size= 64, epochs = 10, validation_data=(x_test, y_test))"
   ]
  },
  {
   "cell_type": "code",
   "execution_count": 12,
   "id": "df3f8924",
   "metadata": {},
   "outputs": [
    {
     "name": "stdout",
     "output_type": "stream",
     "text": [
      "Epoch 1/10\n",
      "16/16 [==============================] - 45s 3s/step - loss: 3.2229 - accuracy: 0.3265 - val_loss: 2.4236 - val_accuracy: 0.4655\n",
      "Epoch 2/10\n",
      "16/16 [==============================] - 49s 3s/step - loss: 1.7227 - accuracy: 0.5865 - val_loss: 1.9127 - val_accuracy: 0.5470\n",
      "Epoch 3/10\n",
      "16/16 [==============================] - 52s 3s/step - loss: 0.9842 - accuracy: 0.7465 - val_loss: 1.7225 - val_accuracy: 0.5935\n",
      "Epoch 4/10\n",
      "16/16 [==============================] - 51s 3s/step - loss: 0.6130 - accuracy: 0.8290 - val_loss: 1.6034 - val_accuracy: 0.6280\n",
      "Epoch 5/10\n",
      "16/16 [==============================] - 51s 3s/step - loss: 0.3133 - accuracy: 0.9230 - val_loss: 1.6403 - val_accuracy: 0.6305\n",
      "Epoch 6/10\n",
      "16/16 [==============================] - 51s 3s/step - loss: 0.1688 - accuracy: 0.9600 - val_loss: 1.7009 - val_accuracy: 0.6385\n",
      "Epoch 7/10\n",
      "16/16 [==============================] - 51s 3s/step - loss: 0.0985 - accuracy: 0.9825 - val_loss: 1.7766 - val_accuracy: 0.6175\n",
      "Epoch 8/10\n",
      "16/16 [==============================] - 50s 3s/step - loss: 0.0680 - accuracy: 0.9890 - val_loss: 1.7390 - val_accuracy: 0.6410\n",
      "Epoch 9/10\n",
      "16/16 [==============================] - 54s 3s/step - loss: 0.0501 - accuracy: 0.9900 - val_loss: 1.8526 - val_accuracy: 0.6215\n",
      "Epoch 10/10\n",
      "16/16 [==============================] - 69s 4s/step - loss: 0.0407 - accuracy: 0.9925 - val_loss: 1.7640 - val_accuracy: 0.6500\n"
     ]
    },
    {
     "data": {
      "text/plain": [
       "<keras.callbacks.History at 0x16712c77340>"
      ]
     },
     "execution_count": 12,
     "metadata": {},
     "output_type": "execute_result"
    }
   ],
   "source": [
    "for layer in base_model.layers[len(base_model.layers) - 2:]:\n",
    "   layer.trainable = True\n",
    "x = Flatten()(base_model.output)\n",
    "x = Dense(512, activation = 'relu')(x)\n",
    "x = Dropout(0.2)(x)\n",
    "predictions = Dense(102, activation = 'softmax')(x)\n",
    "\n",
    "model = Model(inputs= base_model.input, outputs = predictions)\n",
    "model.compile(optimizer = 'adam', loss = 'categorical_crossentropy', metrics = ['accuracy'])\n",
    "model.fit(x_train, y_train, batch_size = 128, epochs = 10, validation_data=(x_test, y_test))"
   ]
  },
  {
   "cell_type": "code",
   "execution_count": 16,
   "id": "fd944dab",
   "metadata": {},
   "outputs": [],
   "source": [
    "predicted_value = model.predict(x_test)\n",
    "labels = list(dataset_generator.class_indices.keys())"
   ]
  },
  {
   "cell_type": "code",
   "execution_count": 18,
   "id": "26fc4107",
   "metadata": {},
   "outputs": [
    {
     "name": "stdout",
     "output_type": "stream",
     "text": [
      "Preditcted:  cup\n",
      "Actual:  stapler\n"
     ]
    },
    {
     "data": {
      "image/png": "[encoded data removed]",
      "text/plain": [
       "<Figure size 432x288 with 1 Axes>"
      ]
     },
     "metadata": {
      "needs_background": "light"
     },
     "output_type": "display_data"
    }
   ],
   "source": [
    "n = 991\n",
    "\n",
    "plt.imshow(x_test[n])\n",
    "print(\"Preditcted: \",labels[np.argmax(predicted_value[n])])\n",
    "print(\"Actual: \", labels[np.argmax(y_test[n])])"
   ]
  },
  {
   "cell_type": "code",
   "execution_count": null,
   "id": "94c23e5b",
   "metadata": {},
   "outputs": [],
   "source": []
  },
  {
   "cell_type": "code",
   "execution_count": null,
   "id": "77da7671",
   "metadata": {},
   "outputs": [],
   "source": []
  },
  {
   "cell_type": "code",
   "execution_count": null,
   "id": "d7035c4c",
   "metadata": {},
   "outputs": [],
   "source": []
  },
  {
   "cell_type": "code",
   "execution_count": null,
   "id": "f17af783",
   "metadata": {},
   "outputs": [],
   "source": []
  },
  {
   "cell_type": "code",
   "execution_count": null,
   "id": "7ddd7701",
   "metadata": {},
   "outputs": [],
   "source": []
  }
 ],
 "metadata": {
  "kernelspec": {
   "display_name": "Python 3 (ipykernel)",
   "language": "python",
   "name": "python3"
  },
  "language_info": {
   "codemirror_mode": {
    "name": "ipython",
    "version": 3
   },
   "file_extension": ".py",
   "mimetype": "text/x-python",
   "name": "python",
   "nbconvert_exporter": "python",
   "pygments_lexer": "ipython3",
   "version": "3.12.1"
  }
 },
 "nbformat": 4,
 "nbformat_minor": 5
}
