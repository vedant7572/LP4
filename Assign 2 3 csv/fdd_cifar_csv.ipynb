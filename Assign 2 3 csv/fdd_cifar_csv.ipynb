{
 "cells": [
  {
   "cell_type": "code",
   "execution_count": 30,
   "metadata": {
    "id": "S53se-W134Ea"
   },
   "outputs": [],
   "source": [
    "import pandas as pd\n",
    "import numpy as np\n",
    "import tensorflow as tf\n",
    "from tensorflow.keras.models import Sequential\n",
    "from tensorflow.keras.layers import Dense, Dropout, Flatten\n",
    "from tensorflow.keras.preprocessing.image import ImageDataGenerator\n",
    "import matplotlib.pyplot as plt"
   ]
  },
  {
   "cell_type": "code",
   "execution_count": 31,
   "metadata": {
    "id": "7sqnFQNO6FDT"
   },
   "outputs": [],
   "source": [
    "train = pd.read_csv('train_data.csv')\n",
    "test = pd.read_csv('test_data.csv')"
   ]
  },
  {
   "cell_type": "code",
   "execution_count": 32,
   "metadata": {
    "colab": {
     "base_uri": "https://localhost:8080/",
     "height": 443
    },
    "id": "FNnbDC1V6TQs",
    "outputId": "205cefda-c30c-40bf-e003-b11863685017"
   },
   "outputs": [
    {
     "data": {
      "text/html": [
       "<div>\n",
       "<style scoped>\n",
       "    .dataframe tbody tr th:only-of-type {\n",
       "        vertical-align: middle;\n",
       "    }\n",
       "\n",
       "    .dataframe tbody tr th {\n",
       "        vertical-align: top;\n",
       "    }\n",
       "\n",
       "    .dataframe thead th {\n",
       "        text-align: right;\n",
       "    }\n",
       "</style>\n",
       "<table border=\"1\" class=\"dataframe\">\n",
       "  <thead>\n",
       "    <tr style=\"text-align: right;\">\n",
       "      <th></th>\n",
       "      <th>pixel_0</th>\n",
       "      <th>pixel_1</th>\n",
       "      <th>pixel_2</th>\n",
       "      <th>pixel_3</th>\n",
       "      <th>pixel_4</th>\n",
       "      <th>pixel_5</th>\n",
       "      <th>pixel_6</th>\n",
       "      <th>pixel_7</th>\n",
       "      <th>pixel_8</th>\n",
       "      <th>pixel_9</th>\n",
       "      <th>...</th>\n",
       "      <th>pixel_3063</th>\n",
       "      <th>pixel_3064</th>\n",
       "      <th>pixel_3065</th>\n",
       "      <th>pixel_3066</th>\n",
       "      <th>pixel_3067</th>\n",
       "      <th>pixel_3068</th>\n",
       "      <th>pixel_3069</th>\n",
       "      <th>pixel_3070</th>\n",
       "      <th>pixel_3071</th>\n",
       "      <th>label</th>\n",
       "    </tr>\n",
       "  </thead>\n",
       "  <tbody>\n",
       "    <tr>\n",
       "      <th>0</th>\n",
       "      <td>59</td>\n",
       "      <td>62</td>\n",
       "      <td>63</td>\n",
       "      <td>43</td>\n",
       "      <td>46</td>\n",
       "      <td>45</td>\n",
       "      <td>50</td>\n",
       "      <td>48</td>\n",
       "      <td>43</td>\n",
       "      <td>68</td>\n",
       "      <td>...</td>\n",
       "      <td>216</td>\n",
       "      <td>184</td>\n",
       "      <td>140</td>\n",
       "      <td>151</td>\n",
       "      <td>118</td>\n",
       "      <td>84</td>\n",
       "      <td>123</td>\n",
       "      <td>92</td>\n",
       "      <td>72</td>\n",
       "      <td>6</td>\n",
       "    </tr>\n",
       "    <tr>\n",
       "      <th>1</th>\n",
       "      <td>154</td>\n",
       "      <td>177</td>\n",
       "      <td>187</td>\n",
       "      <td>126</td>\n",
       "      <td>137</td>\n",
       "      <td>136</td>\n",
       "      <td>105</td>\n",
       "      <td>104</td>\n",
       "      <td>95</td>\n",
       "      <td>102</td>\n",
       "      <td>...</td>\n",
       "      <td>143</td>\n",
       "      <td>133</td>\n",
       "      <td>139</td>\n",
       "      <td>143</td>\n",
       "      <td>134</td>\n",
       "      <td>142</td>\n",
       "      <td>143</td>\n",
       "      <td>133</td>\n",
       "      <td>144</td>\n",
       "      <td>9</td>\n",
       "    </tr>\n",
       "    <tr>\n",
       "      <th>2</th>\n",
       "      <td>255</td>\n",
       "      <td>255</td>\n",
       "      <td>255</td>\n",
       "      <td>253</td>\n",
       "      <td>253</td>\n",
       "      <td>253</td>\n",
       "      <td>253</td>\n",
       "      <td>253</td>\n",
       "      <td>253</td>\n",
       "      <td>253</td>\n",
       "      <td>...</td>\n",
       "      <td>78</td>\n",
       "      <td>85</td>\n",
       "      <td>83</td>\n",
       "      <td>79</td>\n",
       "      <td>85</td>\n",
       "      <td>83</td>\n",
       "      <td>80</td>\n",
       "      <td>86</td>\n",
       "      <td>84</td>\n",
       "      <td>9</td>\n",
       "    </tr>\n",
       "    <tr>\n",
       "      <th>3</th>\n",
       "      <td>28</td>\n",
       "      <td>25</td>\n",
       "      <td>10</td>\n",
       "      <td>37</td>\n",
       "      <td>34</td>\n",
       "      <td>19</td>\n",
       "      <td>38</td>\n",
       "      <td>35</td>\n",
       "      <td>20</td>\n",
       "      <td>42</td>\n",
       "      <td>...</td>\n",
       "      <td>54</td>\n",
       "      <td>47</td>\n",
       "      <td>28</td>\n",
       "      <td>63</td>\n",
       "      <td>56</td>\n",
       "      <td>37</td>\n",
       "      <td>72</td>\n",
       "      <td>65</td>\n",
       "      <td>46</td>\n",
       "      <td>4</td>\n",
       "    </tr>\n",
       "    <tr>\n",
       "      <th>4</th>\n",
       "      <td>170</td>\n",
       "      <td>180</td>\n",
       "      <td>198</td>\n",
       "      <td>168</td>\n",
       "      <td>178</td>\n",
       "      <td>196</td>\n",
       "      <td>177</td>\n",
       "      <td>185</td>\n",
       "      <td>203</td>\n",
       "      <td>183</td>\n",
       "      <td>...</td>\n",
       "      <td>75</td>\n",
       "      <td>79</td>\n",
       "      <td>82</td>\n",
       "      <td>71</td>\n",
       "      <td>75</td>\n",
       "      <td>78</td>\n",
       "      <td>73</td>\n",
       "      <td>77</td>\n",
       "      <td>80</td>\n",
       "      <td>1</td>\n",
       "    </tr>\n",
       "    <tr>\n",
       "      <th>...</th>\n",
       "      <td>...</td>\n",
       "      <td>...</td>\n",
       "      <td>...</td>\n",
       "      <td>...</td>\n",
       "      <td>...</td>\n",
       "      <td>...</td>\n",
       "      <td>...</td>\n",
       "      <td>...</td>\n",
       "      <td>...</td>\n",
       "      <td>...</td>\n",
       "      <td>...</td>\n",
       "      <td>...</td>\n",
       "      <td>...</td>\n",
       "      <td>...</td>\n",
       "      <td>...</td>\n",
       "      <td>...</td>\n",
       "      <td>...</td>\n",
       "      <td>...</td>\n",
       "      <td>...</td>\n",
       "      <td>...</td>\n",
       "      <td>...</td>\n",
       "    </tr>\n",
       "    <tr>\n",
       "      <th>49995</th>\n",
       "      <td>145</td>\n",
       "      <td>161</td>\n",
       "      <td>194</td>\n",
       "      <td>151</td>\n",
       "      <td>166</td>\n",
       "      <td>199</td>\n",
       "      <td>156</td>\n",
       "      <td>171</td>\n",
       "      <td>205</td>\n",
       "      <td>155</td>\n",
       "      <td>...</td>\n",
       "      <td>39</td>\n",
       "      <td>41</td>\n",
       "      <td>56</td>\n",
       "      <td>36</td>\n",
       "      <td>38</td>\n",
       "      <td>53</td>\n",
       "      <td>37</td>\n",
       "      <td>39</td>\n",
       "      <td>54</td>\n",
       "      <td>2</td>\n",
       "    </tr>\n",
       "    <tr>\n",
       "      <th>49996</th>\n",
       "      <td>255</td>\n",
       "      <td>245</td>\n",
       "      <td>132</td>\n",
       "      <td>254</td>\n",
       "      <td>247</td>\n",
       "      <td>134</td>\n",
       "      <td>255</td>\n",
       "      <td>249</td>\n",
       "      <td>137</td>\n",
       "      <td>254</td>\n",
       "      <td>...</td>\n",
       "      <td>249</td>\n",
       "      <td>174</td>\n",
       "      <td>79</td>\n",
       "      <td>252</td>\n",
       "      <td>181</td>\n",
       "      <td>81</td>\n",
       "      <td>253</td>\n",
       "      <td>181</td>\n",
       "      <td>76</td>\n",
       "      <td>6</td>\n",
       "    </tr>\n",
       "    <tr>\n",
       "      <th>49997</th>\n",
       "      <td>35</td>\n",
       "      <td>178</td>\n",
       "      <td>235</td>\n",
       "      <td>40</td>\n",
       "      <td>176</td>\n",
       "      <td>239</td>\n",
       "      <td>42</td>\n",
       "      <td>176</td>\n",
       "      <td>241</td>\n",
       "      <td>39</td>\n",
       "      <td>...</td>\n",
       "      <td>27</td>\n",
       "      <td>52</td>\n",
       "      <td>77</td>\n",
       "      <td>21</td>\n",
       "      <td>43</td>\n",
       "      <td>66</td>\n",
       "      <td>12</td>\n",
       "      <td>31</td>\n",
       "      <td>50</td>\n",
       "      <td>9</td>\n",
       "    </tr>\n",
       "    <tr>\n",
       "      <th>49998</th>\n",
       "      <td>189</td>\n",
       "      <td>211</td>\n",
       "      <td>240</td>\n",
       "      <td>186</td>\n",
       "      <td>208</td>\n",
       "      <td>236</td>\n",
       "      <td>185</td>\n",
       "      <td>207</td>\n",
       "      <td>235</td>\n",
       "      <td>184</td>\n",
       "      <td>...</td>\n",
       "      <td>195</td>\n",
       "      <td>184</td>\n",
       "      <td>169</td>\n",
       "      <td>196</td>\n",
       "      <td>189</td>\n",
       "      <td>171</td>\n",
       "      <td>195</td>\n",
       "      <td>190</td>\n",
       "      <td>171</td>\n",
       "      <td>1</td>\n",
       "    </tr>\n",
       "    <tr>\n",
       "      <th>49999</th>\n",
       "      <td>229</td>\n",
       "      <td>229</td>\n",
       "      <td>239</td>\n",
       "      <td>236</td>\n",
       "      <td>237</td>\n",
       "      <td>247</td>\n",
       "      <td>234</td>\n",
       "      <td>236</td>\n",
       "      <td>247</td>\n",
       "      <td>231</td>\n",
       "      <td>...</td>\n",
       "      <td>179</td>\n",
       "      <td>177</td>\n",
       "      <td>173</td>\n",
       "      <td>164</td>\n",
       "      <td>164</td>\n",
       "      <td>162</td>\n",
       "      <td>163</td>\n",
       "      <td>163</td>\n",
       "      <td>161</td>\n",
       "      <td>1</td>\n",
       "    </tr>\n",
       "  </tbody>\n",
       "</table>\n",
       "<p>50000 rows × 3073 columns</p>\n",
       "</div>"
      ],
      "text/plain": [
       "       pixel_0  pixel_1  pixel_2  pixel_3  pixel_4  pixel_5  pixel_6  pixel_7  \\\n",
       "0           59       62       63       43       46       45       50       48   \n",
       "1          154      177      187      126      137      136      105      104   \n",
       "2          255      255      255      253      253      253      253      253   \n",
       "3           28       25       10       37       34       19       38       35   \n",
       "4          170      180      198      168      178      196      177      185   \n",
       "...        ...      ...      ...      ...      ...      ...      ...      ...   \n",
       "49995      145      161      194      151      166      199      156      171   \n",
       "49996      255      245      132      254      247      134      255      249   \n",
       "49997       35      178      235       40      176      239       42      176   \n",
       "49998      189      211      240      186      208      236      185      207   \n",
       "49999      229      229      239      236      237      247      234      236   \n",
       "\n",
       "       pixel_8  pixel_9  ...  pixel_3063  pixel_3064  pixel_3065  pixel_3066  \\\n",
       "0           43       68  ...         216         184         140         151   \n",
       "1           95      102  ...         143         133         139         143   \n",
       "2          253      253  ...          78          85          83          79   \n",
       "3           20       42  ...          54          47          28          63   \n",
       "4          203      183  ...          75          79          82          71   \n",
       "...        ...      ...  ...         ...         ...         ...         ...   \n",
       "49995      205      155  ...          39          41          56          36   \n",
       "49996      137      254  ...         249         174          79         252   \n",
       "49997      241       39  ...          27          52          77          21   \n",
       "49998      235      184  ...         195         184         169         196   \n",
       "49999      247      231  ...         179         177         173         164   \n",
       "\n",
       "       pixel_3067  pixel_3068  pixel_3069  pixel_3070  pixel_3071  label  \n",
       "0             118          84         123          92          72      6  \n",
       "1             134         142         143         133         144      9  \n",
       "2              85          83          80          86          84      9  \n",
       "3              56          37          72          65          46      4  \n",
       "4              75          78          73          77          80      1  \n",
       "...           ...         ...         ...         ...         ...    ...  \n",
       "49995          38          53          37          39          54      2  \n",
       "49996         181          81         253         181          76      6  \n",
       "49997          43          66          12          31          50      9  \n",
       "49998         189         171         195         190         171      1  \n",
       "49999         164         162         163         163         161      1  \n",
       "\n",
       "[50000 rows x 3073 columns]"
      ]
     },
     "execution_count": 32,
     "metadata": {},
     "output_type": "execute_result"
    }
   ],
   "source": [
    "train"
   ]
  },
  {
   "cell_type": "code",
   "execution_count": 33,
   "metadata": {
    "id": "Ix5s3BxQ6c2m"
   },
   "outputs": [],
   "source": [
    "x_train = train.drop('label', axis=1).values\n",
    "x_test = test.drop('label', axis=1).values"
   ]
  },
  {
   "cell_type": "code",
   "execution_count": 34,
   "metadata": {
    "id": "0VzoLQnA6oBM"
   },
   "outputs": [],
   "source": [
    "y_train = train['label'].values\n",
    "y_test = test['label'].values"
   ]
  },
  {
   "cell_type": "code",
   "execution_count": 47,
   "metadata": {
    "colab": {
     "base_uri": "https://localhost:8080/"
    },
    "id": "j9KVWpzl7HHt",
    "outputId": "6f2b16e0-43c1-41ba-f06c-5fed2a0e1edb",
    "scrolled": true
   },
   "outputs": [],
   "source": [
    "x_train.reshape(-1,32,32,3)\n",
    "x_test.reshape(-1,32,32,3)\n",
    "x_train = x_train.astype('float32')/255\n",
    "\n",
    "x_train = x_train.astype('float32')\n",
    "x_test = x_test.astype('float32')"
   ]
  },
  {
   "cell_type": "code",
   "execution_count": 48,
   "metadata": {
    "id": "9noTPcPaAMZR"
   },
   "outputs": [],
   "source": [
    "# y_train = y_train.reshape(-1)\n",
    "# y_test = y_test.reshape(-1)"
   ]
  },
  {
   "cell_type": "code",
   "execution_count": 49,
   "metadata": {
    "id": "nJXxpIAd7PPa"
   },
   "outputs": [],
   "source": [
    "# y_train = tf.keras.utils.to_categorical(y_train, 2)\n",
    "# y_test = tf.keras.utils.to_ctegorical(y_test, 2)"
   ]
  },
  {
   "cell_type": "code",
   "execution_count": 50,
   "metadata": {
    "colab": {
     "base_uri": "https://localhost:8080/"
    },
    "id": "9St5p-O974n1",
    "outputId": "055b45f3-afbd-42ec-a341-e543d65246e8"
   },
   "outputs": [],
   "source": [
    "model = Sequential([\n",
    "    Flatten(input_shape=(32, 32, 3)),\n",
    "    Dense(128, activation='relu'),\n",
    "    Dense(64, activation='relu'),\n",
    "    Dense(20, activation='softmax')  # Assuming there are 20 classes\n",
    "])\n"
   ]
  },
  {
   "cell_type": "code",
   "execution_count": 51,
   "metadata": {
    "id": "yye6PR8_8S8G"
   },
   "outputs": [],
   "source": [
    "model.compile(optimizer='sgd', \n",
    "              loss='sparse_categorical_crossentropy', \n",
    "              metrics=['accuracy'])\n"
   ]
  },
  {
   "cell_type": "code",
   "execution_count": 52,
   "metadata": {
    "colab": {
     "base_uri": "https://localhost:8080/",
     "height": 443
    },
    "id": "jwrDJ5Tx8n86",
    "outputId": "a166221d-b86a-476f-aec4-4d56cfb68ae9"
   },
   "outputs": [
    {
     "name": "stdout",
     "output_type": "stream",
     "text": [
      "Epoch 1/5\n",
      "\u001b[1m1000/1000\u001b[0m \u001b[32m━━━━━━━━━━━━━━━━━━━━\u001b[0m\u001b[37m\u001b[0m \u001b[1m4s\u001b[0m 3ms/step - accuracy: 0.2452 - loss: 2.1193 - val_accuracy: 0.3483 - val_loss: 170.0428\n",
      "Epoch 2/5\n",
      "\u001b[1m1000/1000\u001b[0m \u001b[32m━━━━━━━━━━━━━━━━━━━━\u001b[0m\u001b[37m\u001b[0m \u001b[1m3s\u001b[0m 3ms/step - accuracy: 0.3586 - loss: 1.8067 - val_accuracy: 0.3395 - val_loss: 198.2864\n",
      "Epoch 3/5\n",
      "\u001b[1m1000/1000\u001b[0m \u001b[32m━━━━━━━━━━━━━━━━━━━━\u001b[0m\u001b[37m\u001b[0m \u001b[1m2s\u001b[0m 2ms/step - accuracy: 0.3934 - loss: 1.7196 - val_accuracy: 0.4002 - val_loss: 171.5655\n",
      "Epoch 4/5\n",
      "\u001b[1m1000/1000\u001b[0m \u001b[32m━━━━━━━━━━━━━━━━━━━━\u001b[0m\u001b[37m\u001b[0m \u001b[1m3s\u001b[0m 3ms/step - accuracy: 0.4133 - loss: 1.6616 - val_accuracy: 0.3967 - val_loss: 187.4726\n",
      "Epoch 5/5\n",
      "\u001b[1m1000/1000\u001b[0m \u001b[32m━━━━━━━━━━━━━━━━━━━━\u001b[0m\u001b[37m\u001b[0m \u001b[1m3s\u001b[0m 3ms/step - accuracy: 0.4255 - loss: 1.6162 - val_accuracy: 0.4213 - val_loss: 170.1823\n"
     ]
    }
   ],
   "source": [
    "history = model.fit(x_train, y_train, validation_data=(x_test, y_test), epochs=5, batch_size=50)\n"
   ]
  },
  {
   "cell_type": "code",
   "execution_count": 53,
   "metadata": {
    "colab": {
     "base_uri": "https://localhost:8080/",
     "height": 425
    },
    "id": "NMFfWBAO85Cq",
    "outputId": "739285f2-d133-4648-fe25-daa5ae8e5772"
   },
   "outputs": [
    {
     "name": "stdout",
     "output_type": "stream",
     "text": [
      "\u001b[1m313/313\u001b[0m \u001b[32m━━━━━━━━━━━━━━━━━━━━\u001b[0m\u001b[37m\u001b[0m \u001b[1m1s\u001b[0m 2ms/step - accuracy: 0.4250 - loss: 168.7107\n"
     ]
    }
   ],
   "source": [
    "test_loss, test_acc = model.evaluate(x_test, y_test)"
   ]
  },
  {
   "cell_type": "code",
   "execution_count": 59,
   "metadata": {
    "colab": {
     "base_uri": "https://localhost:8080/",
     "height": 757
    },
    "id": "gitqtLYP_tON",
    "outputId": "d4693b7e-8732-476e-f641-e501f2eda156"
   },
   "outputs": [
    {
     "name": "stderr",
     "output_type": "stream",
     "text": [
      "Clipping input data to the valid range for imshow with RGB data ([0..1] for floats or [0..255] for integers).\n"
     ]
    },
    {
     "data": {
      "image/png": "[encoded data removed]",
      "text/plain": [
       "<Figure size 640x480 with 1 Axes>"
      ]
     },
     "metadata": {},
     "output_type": "display_data"
    },
    {
     "name": "stdout",
     "output_type": "stream",
     "text": [
      "\u001b[1m313/313\u001b[0m \u001b[32m━━━━━━━━━━━━━━━━━━━━\u001b[0m\u001b[37m\u001b[0m \u001b[1m1s\u001b[0m 2ms/step\n",
      "predicted value:  9\n"
     ]
    }
   ],
   "source": [
    "n=20\n",
    "plt.imshow(x_test[n])\n",
    "plt.show()\n",
    "predicted_values = model.predict(x_test)\n",
    "print(\"predicted value: \", np.argmax(predicted_values[n]))"
   ]
  },
  {
   "cell_type": "code",
   "execution_count": 60,
   "metadata": {
    "id": "FGaRr7hnBOzW"
   },
   "outputs": [
    {
     "data": {
      "text/plain": [
       "<matplotlib.legend.Legend at 0x27d6d809fd0>"
      ]
     },
     "execution_count": 60,
     "metadata": {},
     "output_type": "execute_result"
    },
    {
     "data": {
      "image/png": "[encoded data removed]",
      "text/plain": [
       "<Figure size 640x480 with 1 Axes>"
      ]
     },
     "metadata": {},
     "output_type": "display_data"
    }
   ],
   "source": [
    "plt.plot(history.history['accuracy'], label='accuracy', color='red')\n",
    "plt.plot(history.history['val_accuracy'], label='val_accuracy', color='green')\n",
    "plt.legend()"
   ]
  },
  {
   "cell_type": "code",
   "execution_count": null,
   "metadata": {
    "id": "m8ofQ_vKBn_5"
   },
   "outputs": [],
   "source": []
  }
 ],
 "metadata": {
  "colab": {
   "provenance": []
  },
  "kernelspec": {
   "display_name": "Python 3 (ipykernel)",
   "language": "python",
   "name": "python3"
  },
  "language_info": {
   "codemirror_mode": {
    "name": "ipython",
    "version": 3
   },
   "file_extension": ".py",
   "mimetype": "text/x-python",
   "name": "python",
   "nbconvert_exporter": "python",
   "pygments_lexer": "ipython3",
   "version": "3.12.1"
  }
 },
 "nbformat": 4,
 "nbformat_minor": 4
}
